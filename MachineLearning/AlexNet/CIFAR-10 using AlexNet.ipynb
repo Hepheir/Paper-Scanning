{
  "nbformat": 4,
  "nbformat_minor": 0,
  "metadata": {
    "colab": {
      "name": "CIFAR-10 using AlexNet.ipynb",
      "provenance": [],
      "collapsed_sections": [],
      "authorship_tag": "ABX9TyMeojevl2/lWayXc3duP6dV",
      "include_colab_link": true
    },
    "kernelspec": {
      "name": "python3",
      "display_name": "Python 3"
    }
  },
  "cells": [
    {
      "cell_type": "markdown",
      "metadata": {
        "id": "view-in-github",
        "colab_type": "text"
      },
      "source": [
        "<a href=\"https://colab.research.google.com/github/Hepheir/Paper-Scanning/blob/AlexNet/MachineLearning/AlexNet/CIFAR-10%20using%20AlexNet.ipynb\" target=\"_parent\"><img src=\"https://colab.research.google.com/assets/colab-badge.svg\" alt=\"Open In Colab\"/></a>"
      ]
    },
    {
      "cell_type": "markdown",
      "metadata": {
        "id": "MRMV44YvyDba",
        "colab_type": "text"
      },
      "source": [
        "# CIFAR-10"
      ]
    },
    {
      "cell_type": "code",
      "metadata": {
        "id": "zYsOtTDXx_II",
        "colab_type": "code",
        "cellView": "form",
        "colab": {}
      },
      "source": [
        "#@title Imports\n",
        "\n",
        "import numpy as np\n",
        "\n",
        "from tensorflow.keras import backend\n",
        "from tensorflow.keras.models import Sequential\n",
        "from tensorflow.keras.layers import *"
      ],
      "execution_count": 1,
      "outputs": []
    },
    {
      "cell_type": "markdown",
      "metadata": {
        "id": "I6OAFvXXy4TE",
        "colab_type": "text"
      },
      "source": [
        "---\n",
        "\n",
        "## Local Response Normalization\n",
        "\n",
        "Keras에는 Local Response Normalization 명령이 없어졌다고 한다. [이 곳](https://datascienceschool.net/view-notebook/d19e803640094f76b93f11b850b920a4/)에 구현된 LRN명령을 가져와 사용한다.\n",
        "\n",
        "참고:\n",
        "* [Difference between Local Response Normalization and Batch Normalization](https://towardsdatascience.com/difference-between-local-response-normalization-and-batch-normalization-272308c034ac)\n",
        "* [AlexNet - Data Science School](https://datascienceschool.net/view-notebook/d19e803640094f76b93f11b850b920a4/)"
      ]
    },
    {
      "cell_type": "code",
      "metadata": {
        "id": "lc-5iWkiyqhQ",
        "colab_type": "code",
        "cellView": "form",
        "colab": {}
      },
      "source": [
        "#@title Local Response Normalization\n",
        "\n",
        "class LocalResponseNormalization(Layer):\n",
        "\n",
        "    def __init__(self, n=5, alpha=1e-4, beta=0.75, k=2, **kwargs):\n",
        "        self.n = n\n",
        "        self.alpha = alpha\n",
        "        self.beta = beta\n",
        "        self.k = k\n",
        "        super(LocalResponseNormalization, self).__init__(**kwargs)\n",
        "\n",
        "    def build(self, input_shape):\n",
        "        self.shape = input_shape\n",
        "        super(LocalResponseNormalization, self).build(input_shape)\n",
        "\n",
        "    def call(self, x):\n",
        "        _, r, c, f = self.shape \n",
        "        squared = backend.square(x)\n",
        "        pooled = backend.pool2d(squared, (self.n, self.n), strides=(1,1), padding=\"same\", pool_mode='avg')\n",
        "        summed = backend.sum(pooled, axis=3, keepdims=True)\n",
        "        averaged = self.alpha * backend.repeat_elements(summed, f, axis=3)\n",
        "        denom = backend.pow(self.k + averaged, self.beta)\n",
        "        return x / denom \n",
        "    \n",
        "    def compute_output_shape(self, input_shape):\n",
        "        return input_shape "
      ],
      "execution_count": 2,
      "outputs": []
    },
    {
      "cell_type": "markdown",
      "metadata": {
        "id": "GmikNJQizEGc",
        "colab_type": "text"
      },
      "source": [
        "---\n",
        "\n",
        "## AlexNet using Keras\n"
      ]
    },
    {
      "cell_type": "code",
      "metadata": {
        "id": "AyJc_ca7zHwE",
        "colab_type": "code",
        "cellView": "both",
        "colab": {
          "base_uri": "https://localhost:8080/",
          "height": 665
        },
        "outputId": "3a8f1c5b-e485-4f52-fb14-14edf9d0bd1f"
      },
      "source": [
        "#@title Build Model\n",
        "\n",
        "model = Sequential([\n",
        "    # The first convolutional layer\n",
        "    Conv2D(\n",
        "        input_shape=(32, 32, 3),\n",
        "        kernel_size=(5,5),\n",
        "        filters=96,\n",
        "        padding='valid',\n",
        "        activation='relu'),\n",
        "    LocalResponseNormalization(),\n",
        "    MaxPooling2D(\n",
        "        pool_size=(3,3),\n",
        "        strides=(2,2),\n",
        "        padding='valid'),\n",
        "    # The second convolutional layer\n",
        "    Conv2D(\n",
        "        filters=256,\n",
        "        kernel_size=(3,3),\n",
        "        padding='valid',\n",
        "        activation='relu'),\n",
        "    LocalResponseNormalization(),\n",
        "    # The third convolutional layer\n",
        "    Conv2D(\n",
        "        filters=384,\n",
        "        kernel_size=(3,3),\n",
        "        padding='valid',\n",
        "        activation='relu'),\n",
        "    # The fourth convolutional layer\n",
        "    Conv2D(\n",
        "        filters=384,\n",
        "        kernel_size=(3,3),\n",
        "        padding='valid',\n",
        "        activation='relu'),\n",
        "    # Connect between Convolutional layers and Fully-Connected layers\n",
        "    Flatten(),\n",
        "    # 6th Layer: Fully-Connected\n",
        "    Dense(units=256, activation='relu'),\n",
        "    Dropout(rate=0.4),\n",
        "    # 7th Layer: Fully-Connected\n",
        "    Dense(units=128, activation='relu'),\n",
        "    Dropout(rate=0.4),\n",
        "    # 8th Layer: Fully-Connected\n",
        "    Dense(units=10, activation='relu'),\n",
        "    # Output Layer\n",
        "    Dense(units=10, activation='softmax')\n",
        "])\n",
        "\n",
        "model.compile(\n",
        "    optimizer=\"adam\",\n",
        "    loss='categorical_crossentropy',\n",
        "    metrics=['accuracy'])\n",
        "model.summary()"
      ],
      "execution_count": 3,
      "outputs": [
        {
          "output_type": "stream",
          "text": [
            "Model: \"sequential\"\n",
            "_________________________________________________________________\n",
            "Layer (type)                 Output Shape              Param #   \n",
            "=================================================================\n",
            "conv2d (Conv2D)              (None, 28, 28, 96)        7296      \n",
            "_________________________________________________________________\n",
            "local_response_normalization (None, 28, 28, 96)        0         \n",
            "_________________________________________________________________\n",
            "max_pooling2d (MaxPooling2D) (None, 13, 13, 96)        0         \n",
            "_________________________________________________________________\n",
            "conv2d_1 (Conv2D)            (None, 11, 11, 256)       221440    \n",
            "_________________________________________________________________\n",
            "local_response_normalization (None, 11, 11, 256)       0         \n",
            "_________________________________________________________________\n",
            "conv2d_2 (Conv2D)            (None, 9, 9, 384)         885120    \n",
            "_________________________________________________________________\n",
            "conv2d_3 (Conv2D)            (None, 7, 7, 384)         1327488   \n",
            "_________________________________________________________________\n",
            "flatten (Flatten)            (None, 18816)             0         \n",
            "_________________________________________________________________\n",
            "dense (Dense)                (None, 256)               4817152   \n",
            "_________________________________________________________________\n",
            "dropout (Dropout)            (None, 256)               0         \n",
            "_________________________________________________________________\n",
            "dense_1 (Dense)              (None, 128)               32896     \n",
            "_________________________________________________________________\n",
            "dropout_1 (Dropout)          (None, 128)               0         \n",
            "_________________________________________________________________\n",
            "dense_2 (Dense)              (None, 10)                1290      \n",
            "_________________________________________________________________\n",
            "dense_3 (Dense)              (None, 10)                110       \n",
            "=================================================================\n",
            "Total params: 7,292,792\n",
            "Trainable params: 7,292,792\n",
            "Non-trainable params: 0\n",
            "_________________________________________________________________\n"
          ],
          "name": "stdout"
        }
      ]
    },
    {
      "cell_type": "code",
      "metadata": {
        "id": "vkWB8s0q0cib",
        "colab_type": "code",
        "cellView": "both",
        "colab": {}
      },
      "source": [
        "#@title Download CIFAR-10 dataset\n",
        "\n",
        "from tensorflow.keras.utils import to_categorical\n",
        "from tensorflow.keras.datasets import cifar10\n",
        "\n",
        "(x_train, y_train), (x_test, y_test) = cifar10.load_data()\n"
      ],
      "execution_count": 4,
      "outputs": []
    },
    {
      "cell_type": "code",
      "metadata": {
        "id": "8Xpq9xjzP7M-",
        "colab_type": "code",
        "colab": {}
      },
      "source": [
        "import cv2\n",
        "\n"
      ],
      "execution_count": null,
      "outputs": []
    },
    {
      "cell_type": "code",
      "metadata": {
        "id": "hGcKHPNtP4O3",
        "colab_type": "code",
        "colab": {}
      },
      "source": [
        "\n",
        "# 데이터셋 전처리 : 데이터 정규화 및 one-hot 인코딩\n",
        "x_train = np.reshape(x_train / 255.0, tuple( [x_train.shape[0]] + list(model.input_shape[1:])))\n",
        "y_train = to_categorical(y_train)\n",
        "x_test = np.reshape(x_test / 255.0, tuple([x_test.shape[0]] + list(model.input_shape[1:])))\n",
        "y_test = to_categorical(y_test)"
      ],
      "execution_count": null,
      "outputs": []
    },
    {
      "cell_type": "code",
      "metadata": {
        "id": "RqHyT9Ja2FN1",
        "colab_type": "code",
        "colab": {
          "base_uri": "https://localhost:8080/",
          "height": 397
        },
        "cellView": "both",
        "outputId": "2fb99529-ead1-486d-aab0-02d725b7e2aa"
      },
      "source": [
        "#@title Train Model\n",
        "\n",
        "from tensorflow.keras.callbacks import ModelCheckpoint\n",
        "\n",
        "checkpoint_path = 'CIFAR-10/training/cp-{epoch:04d}.ckpt'\n",
        "checkpoint_callback = ModelCheckpoint(\n",
        "    checkpoint_path,\n",
        "    verbose=1,\n",
        "    save_weights_only=False\n",
        ")\n",
        "\n",
        "model.fit(x_train, y_train,\n",
        "    batch_size=100,\n",
        "    epochs=3,\n",
        "    callbacks=[\n",
        "        checkpoint_callback\n",
        "    ])\n",
        "model.evaluate(x_test, y_test)\n",
        "model.save('CIFAR-10/model/cifar-10.alexnet')"
      ],
      "execution_count": 6,
      "outputs": [
        {
          "output_type": "stream",
          "text": [
            "Epoch 1/3\n",
            "499/500 [============================>.] - ETA: 0s - loss: 2.3035 - accuracy: 0.1000\n",
            "Epoch 00001: saving model to CIFAR-10/training/cp-0001.ckpt\n",
            "WARNING:tensorflow:From C:\\Users\\KDJ\\anaconda3\\envs\\DG_AI_System\\lib\\site-packages\\tensorflow\\python\\ops\\resource_variable_ops.py:1817: calling BaseResourceVariable.__init__ (from tensorflow.python.ops.resource_variable_ops) with constraint is deprecated and will be removed in a future version.\n",
            "Instructions for updating:\n",
            "If using Keras pass *_constraint arguments to layers.\n",
            "INFO:tensorflow:Assets written to: CIFAR-10/training/cp-0001.ckpt\\assets\n",
            "500/500 [==============================] - 13s 25ms/step - loss: 2.3035 - accuracy: 0.1000\n",
            "Epoch 2/3\n",
            "500/500 [==============================] - ETA: 0s - loss: 2.3032 - accuracy: 0.1000\n",
            "Epoch 00002: saving model to CIFAR-10/training/cp-0002.ckpt\n",
            "INFO:tensorflow:Assets written to: CIFAR-10/training/cp-0002.ckpt\\assets\n",
            "500/500 [==============================] - 13s 25ms/step - loss: 2.3032 - accuracy: 0.1000\n",
            "Epoch 3/3\n",
            "498/500 [============================>.] - ETA: 0s - loss: 2.3030 - accuracy: 0.1000\n",
            "Epoch 00003: saving model to CIFAR-10/training/cp-0003.ckpt\n",
            "INFO:tensorflow:Assets written to: CIFAR-10/training/cp-0003.ckpt\\assets\n",
            "500/500 [==============================] - 13s 26ms/step - loss: 2.3030 - accuracy: 0.1000\n",
            "313/313 [==============================] - 1s 5ms/step - loss: 2.3028 - accuracy: 0.1000\n",
            "INFO:tensorflow:Assets written to: CIFAR-10/model/cifar-10.alexnet\\assets\n"
          ],
          "name": "stdout"
        }
      ]
    }
  ]
}